{
 "cells": [
  {
   "cell_type": "code",
   "execution_count": 1,
   "metadata": {},
   "outputs": [],
   "source": [
    "import os\n",
    "import sys\n",
    "sys.path.append(\"/home/bydguikong/yy_ws/nuplan-devkit\")\n",
    "devkit_path = \"/home/bydguikong/yy_ws/nuplan-devkit\"\n",
    "\n",
    "# 添加到 Python 模块搜索路径中（对 import 起效）\n",
    "if devkit_path not in sys.path:\n",
    "    sys.path.append(devkit_path)\n",
    "!pip list  | grep nuplan"
   ]
  },
  {
   "cell_type": "code",
   "execution_count": 2,
   "metadata": {},
   "outputs": [
    {
     "name": "stdout",
     "output_type": "stream",
     "text": [
      "--- Minimal Test Script (v2) ---\n",
      "Attempting to load data from: /home/bydguikong/nuplan/dataset/nuplan-v1.1/splits/mini\n",
      "Attempting to load maps from: /home/bydguikong/nuplan/dataset/maps\n",
      "\n",
      "------ RESULT ------\n",
      "SUCCESS: Found 443218 scenarios!\n",
      "--------------------\n"
     ]
    }
   ],
   "source": [
    "import os\n",
    "from nuplan.planning.scenario_builder.nuplan_db.nuplan_scenario_builder import NuPlanScenarioBuilder\n",
    "from nuplan.planning.scenario_builder.scenario_filter import ScenarioFilter\n",
    "from nuplan.planning.utils.multithreading.worker_parallel import SingleMachineParallelExecutor\n",
    "\n",
    "# --- Hardcoded Correct Paths ---\n",
    "db_files_path = '/home/bydguikong/nuplan/dataset/nuplan-v1.1/splits/mini'\n",
    "map_path = '/home/bydguikong/nuplan/dataset/maps'\n",
    "map_version = \"nuplan-maps-v1.0\"\n",
    "\n",
    "print(\"--- Minimal Test Script (v2) ---\")\n",
    "print(f\"Attempting to load data from: {db_files_path}\")\n",
    "print(f\"Attempting to load maps from: {map_path}\")\n",
    "\n",
    "try:\n",
    "    # 1. Initialize the builder with the missing sensor_root argument\n",
    "    builder = NuPlanScenarioBuilder(\n",
    "        data_root=db_files_path,\n",
    "        map_root=map_path,\n",
    "        sensor_root=None, # <-- 这是修正后增加的一行\n",
    "        db_files=None,\n",
    "        map_version=map_version\n",
    "    )\n",
    "\n",
    "    # 2. Create a filter that accepts everything\n",
    "    scenario_filter = ScenarioFilter(\n",
    "        scenario_types=None,\n",
    "        scenario_tokens=None,\n",
    "        log_names=None,\n",
    "        map_names=None,\n",
    "        num_scenarios_per_type=None,\n",
    "        limit_total_scenarios=None,\n",
    "        timestamp_threshold_s=None,\n",
    "        ego_displacement_minimum_m=None,\n",
    "        expand_scenarios=True,\n",
    "        remove_invalid_goals=False,\n",
    "        shuffle=False\n",
    "    )\n",
    "\n",
    "    # 3. Try to get the scenarios\n",
    "    worker = SingleMachineParallelExecutor(use_process_pool=True)\n",
    "    scenarios = builder.get_scenarios(scenario_filter, worker)\n",
    "\n",
    "    # 4. Print the result\n",
    "    print(\"\\n------ RESULT ------\")\n",
    "    print(f\"SUCCESS: Found {len(scenarios)} scenarios!\")\n",
    "    print(\"--------------------\")\n",
    "\n",
    "except Exception as e:\n",
    "    print(\"\\n------ ERROR ------\")\n",
    "    import traceback\n",
    "    traceback.print_exc()\n",
    "    print(\"-------------------\")"
   ]
  },
  {
   "cell_type": "code",
   "execution_count": 3,
   "metadata": {},
   "outputs": [
    {
     "name": "stdout",
     "output_type": "stream",
     "text": [
      "Scanning directory: /home/bydguikong/nuplan/dataset/nuplan-v1.1/splits/mini...\n",
      "Found 64 log files.\n",
      "Successfully saved log names to nuplan_train.json\n"
     ]
    }
   ],
   "source": [
    "import os\n",
    "import json\n",
    "\n",
    "# --- 您需要修改这里的路径 ---\n",
    "# 这个路径应该和您运行主脚本时使用的 --data_path 一致\n",
    "data_directory = '/home/bydguikong/nuplan/dataset/nuplan-v1.1/splits/mini'\n",
    "# data_directory = '/home/bydguikong/yy_ws/Diffusion-Planner/detect_data' \n",
    "\n",
    "\n",
    "# 新的json文件名\n",
    "output_json_file = 'nuplan_train.json'\n",
    "# --------------------------\n",
    "\n",
    "actual_log_names = []\n",
    "print(f\"Scanning directory: {data_directory}...\")\n",
    "\n",
    "for root, dirs, files in os.walk(data_directory):\n",
    "    for file in files:\n",
    "        if file.endswith('.db'):\n",
    "            # nuPlan的log_name通常不包含.db后缀\n",
    "            # actual_log_names.append(file)\n",
    "            log_name = os.path.splitext(file)[0]\n",
    "            actual_log_names.append(log_name)\n",
    "\n",
    "print(f\"Found {len(actual_log_names)} log files.\")\n",
    "\n",
    "with open(output_json_file, 'w') as f:\n",
    "    json.dump(actual_log_names, f, indent=4)\n",
    "\n",
    "print(f\"Successfully saved log names to {output_json_file}\")"
   ]
  }
 ],
 "metadata": {
  "kernelspec": {
   "display_name": "diffusion_planner",
   "language": "python",
   "name": "python3"
  },
  "language_info": {
   "codemirror_mode": {
    "name": "ipython",
    "version": 3
   },
   "file_extension": ".py",
   "mimetype": "text/x-python",
   "name": "python",
   "nbconvert_exporter": "python",
   "pygments_lexer": "ipython3",
   "version": "3.9.23"
  }
 },
 "nbformat": 4,
 "nbformat_minor": 2
}
